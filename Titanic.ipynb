{
 "cells": [
  {
   "cell_type": "code",
   "execution_count": 3,
   "metadata": {},
   "outputs": [],
   "source": [
    "import pandas as pd\n",
    "import numpy as np\n",
    "%matplotlib inline"
   ]
  },
  {
   "cell_type": "code",
   "execution_count": 4,
   "metadata": {},
   "outputs": [
    {
     "data": {
      "text/html": [
       "<div>\n",
       "<style scoped>\n",
       "    .dataframe tbody tr th:only-of-type {\n",
       "        vertical-align: middle;\n",
       "    }\n",
       "\n",
       "    .dataframe tbody tr th {\n",
       "        vertical-align: top;\n",
       "    }\n",
       "\n",
       "    .dataframe thead th {\n",
       "        text-align: right;\n",
       "    }\n",
       "</style>\n",
       "<table border=\"1\" class=\"dataframe\">\n",
       "  <thead>\n",
       "    <tr style=\"text-align: right;\">\n",
       "      <th></th>\n",
       "      <th>pclass</th>\n",
       "      <th>gender</th>\n",
       "      <th>age</th>\n",
       "      <th>sibling</th>\n",
       "      <th>fare</th>\n",
       "      <th>embark_town</th>\n",
       "      <th>survived</th>\n",
       "    </tr>\n",
       "  </thead>\n",
       "  <tbody>\n",
       "    <tr>\n",
       "      <th>0</th>\n",
       "      <td>3</td>\n",
       "      <td>male</td>\n",
       "      <td>22.0</td>\n",
       "      <td>1</td>\n",
       "      <td>7.2500</td>\n",
       "      <td>Southampton</td>\n",
       "      <td>no</td>\n",
       "    </tr>\n",
       "    <tr>\n",
       "      <th>1</th>\n",
       "      <td>1</td>\n",
       "      <td>female</td>\n",
       "      <td>38.0</td>\n",
       "      <td>1</td>\n",
       "      <td>71.2833</td>\n",
       "      <td>Cherbourg</td>\n",
       "      <td>yes</td>\n",
       "    </tr>\n",
       "    <tr>\n",
       "      <th>2</th>\n",
       "      <td>3</td>\n",
       "      <td>female</td>\n",
       "      <td>26.0</td>\n",
       "      <td>0</td>\n",
       "      <td>7.9250</td>\n",
       "      <td>Southampton</td>\n",
       "      <td>yes</td>\n",
       "    </tr>\n",
       "    <tr>\n",
       "      <th>3</th>\n",
       "      <td>1</td>\n",
       "      <td>female</td>\n",
       "      <td>35.0</td>\n",
       "      <td>1</td>\n",
       "      <td>53.1000</td>\n",
       "      <td>Southampton</td>\n",
       "      <td>yes</td>\n",
       "    </tr>\n",
       "    <tr>\n",
       "      <th>4</th>\n",
       "      <td>3</td>\n",
       "      <td>male</td>\n",
       "      <td>35.0</td>\n",
       "      <td>0</td>\n",
       "      <td>8.0500</td>\n",
       "      <td>Southampton</td>\n",
       "      <td>no</td>\n",
       "    </tr>\n",
       "  </tbody>\n",
       "</table>\n",
       "</div>"
      ],
      "text/plain": [
       "   pclass  gender   age  sibling     fare  embark_town survived\n",
       "0       3    male  22.0        1   7.2500  Southampton       no\n",
       "1       1  female  38.0        1  71.2833    Cherbourg      yes\n",
       "2       3  female  26.0        0   7.9250  Southampton      yes\n",
       "3       1  female  35.0        1  53.1000  Southampton      yes\n",
       "4       3    male  35.0        0   8.0500  Southampton       no"
      ]
     },
     "execution_count": 4,
     "metadata": {},
     "output_type": "execute_result"
    }
   ],
   "source": [
    "df=pd.read_csv(\"titanic.csv\")\n",
    "df.head()"
   ]
  },
  {
   "cell_type": "code",
   "execution_count": 5,
   "metadata": {},
   "outputs": [
    {
     "name": "stdout",
     "output_type": "stream",
     "text": [
      "<class 'pandas.core.frame.DataFrame'>\n",
      "RangeIndex: 889 entries, 0 to 888\n",
      "Data columns (total 7 columns):\n",
      "pclass         889 non-null int64\n",
      "gender         889 non-null object\n",
      "age            712 non-null float64\n",
      "sibling        889 non-null int64\n",
      "fare           889 non-null float64\n",
      "embark_town    889 non-null object\n",
      "survived       889 non-null object\n",
      "dtypes: float64(2), int64(2), object(3)\n",
      "memory usage: 48.7+ KB\n"
     ]
    }
   ],
   "source": [
    "df.info()"
   ]
  },
  {
   "cell_type": "code",
   "execution_count": 6,
   "metadata": {},
   "outputs": [
    {
     "data": {
      "text/plain": [
       "(889, 7)"
      ]
     },
     "execution_count": 6,
     "metadata": {},
     "output_type": "execute_result"
    }
   ],
   "source": [
    "df.shape"
   ]
  },
  {
   "cell_type": "code",
   "execution_count": 7,
   "metadata": {},
   "outputs": [
    {
     "name": "stdout",
     "output_type": "stream",
     "text": [
      "<class 'pandas.core.frame.DataFrame'>\n",
      "RangeIndex: 889 entries, 0 to 888\n",
      "Data columns (total 7 columns):\n",
      "pclass         889 non-null int64\n",
      "gender         889 non-null object\n",
      "age            712 non-null float64\n",
      "sibling        889 non-null int64\n",
      "fare           889 non-null float64\n",
      "embark_town    889 non-null object\n",
      "survived       889 non-null object\n",
      "dtypes: float64(2), int64(2), object(3)\n",
      "memory usage: 48.7+ KB\n"
     ]
    }
   ],
   "source": [
    "df.info()"
   ]
  },
  {
   "cell_type": "code",
   "execution_count": 8,
   "metadata": {},
   "outputs": [],
   "source": [
    "df['age']=df['age'].fillna(df['age'].median())"
   ]
  },
  {
   "cell_type": "code",
   "execution_count": 9,
   "metadata": {
    "scrolled": true
   },
   "outputs": [
    {
     "name": "stdout",
     "output_type": "stream",
     "text": [
      "<class 'pandas.core.frame.DataFrame'>\n",
      "RangeIndex: 889 entries, 0 to 888\n",
      "Data columns (total 7 columns):\n",
      "pclass         889 non-null int64\n",
      "gender         889 non-null object\n",
      "age            889 non-null float64\n",
      "sibling        889 non-null int64\n",
      "fare           889 non-null float64\n",
      "embark_town    889 non-null object\n",
      "survived       889 non-null object\n",
      "dtypes: float64(2), int64(2), object(3)\n",
      "memory usage: 48.7+ KB\n"
     ]
    }
   ],
   "source": [
    "df.info()"
   ]
  },
  {
   "cell_type": "code",
   "execution_count": 10,
   "metadata": {},
   "outputs": [],
   "source": [
    "sex=pd.get_dummies(df['gender'],drop_first=True)\n",
    "embark=pd.get_dummies(df['embark_town'],drop_first=True)"
   ]
  },
  {
   "cell_type": "code",
   "execution_count": 11,
   "metadata": {},
   "outputs": [],
   "source": [
    "df=df.drop(['gender','embark_town'],axis=1)"
   ]
  },
  {
   "cell_type": "code",
   "execution_count": 12,
   "metadata": {},
   "outputs": [],
   "source": [
    "df=pd.concat([df,sex,embark],axis=1)"
   ]
  },
  {
   "cell_type": "code",
   "execution_count": 13,
   "metadata": {},
   "outputs": [
    {
     "data": {
      "text/html": [
       "<div>\n",
       "<style scoped>\n",
       "    .dataframe tbody tr th:only-of-type {\n",
       "        vertical-align: middle;\n",
       "    }\n",
       "\n",
       "    .dataframe tbody tr th {\n",
       "        vertical-align: top;\n",
       "    }\n",
       "\n",
       "    .dataframe thead th {\n",
       "        text-align: right;\n",
       "    }\n",
       "</style>\n",
       "<table border=\"1\" class=\"dataframe\">\n",
       "  <thead>\n",
       "    <tr style=\"text-align: right;\">\n",
       "      <th></th>\n",
       "      <th>pclass</th>\n",
       "      <th>age</th>\n",
       "      <th>sibling</th>\n",
       "      <th>fare</th>\n",
       "      <th>survived</th>\n",
       "      <th>male</th>\n",
       "      <th>Queenstown</th>\n",
       "      <th>Southampton</th>\n",
       "    </tr>\n",
       "  </thead>\n",
       "  <tbody>\n",
       "    <tr>\n",
       "      <th>0</th>\n",
       "      <td>3</td>\n",
       "      <td>22.0</td>\n",
       "      <td>1</td>\n",
       "      <td>7.2500</td>\n",
       "      <td>no</td>\n",
       "      <td>1</td>\n",
       "      <td>0</td>\n",
       "      <td>1</td>\n",
       "    </tr>\n",
       "    <tr>\n",
       "      <th>1</th>\n",
       "      <td>1</td>\n",
       "      <td>38.0</td>\n",
       "      <td>1</td>\n",
       "      <td>71.2833</td>\n",
       "      <td>yes</td>\n",
       "      <td>0</td>\n",
       "      <td>0</td>\n",
       "      <td>0</td>\n",
       "    </tr>\n",
       "    <tr>\n",
       "      <th>2</th>\n",
       "      <td>3</td>\n",
       "      <td>26.0</td>\n",
       "      <td>0</td>\n",
       "      <td>7.9250</td>\n",
       "      <td>yes</td>\n",
       "      <td>0</td>\n",
       "      <td>0</td>\n",
       "      <td>1</td>\n",
       "    </tr>\n",
       "    <tr>\n",
       "      <th>3</th>\n",
       "      <td>1</td>\n",
       "      <td>35.0</td>\n",
       "      <td>1</td>\n",
       "      <td>53.1000</td>\n",
       "      <td>yes</td>\n",
       "      <td>0</td>\n",
       "      <td>0</td>\n",
       "      <td>1</td>\n",
       "    </tr>\n",
       "    <tr>\n",
       "      <th>4</th>\n",
       "      <td>3</td>\n",
       "      <td>35.0</td>\n",
       "      <td>0</td>\n",
       "      <td>8.0500</td>\n",
       "      <td>no</td>\n",
       "      <td>1</td>\n",
       "      <td>0</td>\n",
       "      <td>1</td>\n",
       "    </tr>\n",
       "  </tbody>\n",
       "</table>\n",
       "</div>"
      ],
      "text/plain": [
       "   pclass   age  sibling     fare survived  male  Queenstown  Southampton\n",
       "0       3  22.0        1   7.2500       no     1           0            1\n",
       "1       1  38.0        1  71.2833      yes     0           0            0\n",
       "2       3  26.0        0   7.9250      yes     0           0            1\n",
       "3       1  35.0        1  53.1000      yes     0           0            1\n",
       "4       3  35.0        0   8.0500       no     1           0            1"
      ]
     },
     "execution_count": 13,
     "metadata": {},
     "output_type": "execute_result"
    }
   ],
   "source": [
    "df.head()"
   ]
  },
  {
   "cell_type": "code",
   "execution_count": 14,
   "metadata": {},
   "outputs": [],
   "source": [
    "df['survived']=df['survived'].apply(lambda x:1 if x=='yes' else 0)"
   ]
  },
  {
   "cell_type": "code",
   "execution_count": 15,
   "metadata": {},
   "outputs": [
    {
     "data": {
      "text/html": [
       "<div>\n",
       "<style scoped>\n",
       "    .dataframe tbody tr th:only-of-type {\n",
       "        vertical-align: middle;\n",
       "    }\n",
       "\n",
       "    .dataframe tbody tr th {\n",
       "        vertical-align: top;\n",
       "    }\n",
       "\n",
       "    .dataframe thead th {\n",
       "        text-align: right;\n",
       "    }\n",
       "</style>\n",
       "<table border=\"1\" class=\"dataframe\">\n",
       "  <thead>\n",
       "    <tr style=\"text-align: right;\">\n",
       "      <th></th>\n",
       "      <th>pclass</th>\n",
       "      <th>age</th>\n",
       "      <th>sibling</th>\n",
       "      <th>fare</th>\n",
       "      <th>survived</th>\n",
       "      <th>male</th>\n",
       "      <th>Queenstown</th>\n",
       "      <th>Southampton</th>\n",
       "    </tr>\n",
       "  </thead>\n",
       "  <tbody>\n",
       "    <tr>\n",
       "      <th>0</th>\n",
       "      <td>3</td>\n",
       "      <td>22.0</td>\n",
       "      <td>1</td>\n",
       "      <td>7.2500</td>\n",
       "      <td>0</td>\n",
       "      <td>1</td>\n",
       "      <td>0</td>\n",
       "      <td>1</td>\n",
       "    </tr>\n",
       "    <tr>\n",
       "      <th>1</th>\n",
       "      <td>1</td>\n",
       "      <td>38.0</td>\n",
       "      <td>1</td>\n",
       "      <td>71.2833</td>\n",
       "      <td>1</td>\n",
       "      <td>0</td>\n",
       "      <td>0</td>\n",
       "      <td>0</td>\n",
       "    </tr>\n",
       "    <tr>\n",
       "      <th>2</th>\n",
       "      <td>3</td>\n",
       "      <td>26.0</td>\n",
       "      <td>0</td>\n",
       "      <td>7.9250</td>\n",
       "      <td>1</td>\n",
       "      <td>0</td>\n",
       "      <td>0</td>\n",
       "      <td>1</td>\n",
       "    </tr>\n",
       "    <tr>\n",
       "      <th>3</th>\n",
       "      <td>1</td>\n",
       "      <td>35.0</td>\n",
       "      <td>1</td>\n",
       "      <td>53.1000</td>\n",
       "      <td>1</td>\n",
       "      <td>0</td>\n",
       "      <td>0</td>\n",
       "      <td>1</td>\n",
       "    </tr>\n",
       "    <tr>\n",
       "      <th>4</th>\n",
       "      <td>3</td>\n",
       "      <td>35.0</td>\n",
       "      <td>0</td>\n",
       "      <td>8.0500</td>\n",
       "      <td>0</td>\n",
       "      <td>1</td>\n",
       "      <td>0</td>\n",
       "      <td>1</td>\n",
       "    </tr>\n",
       "  </tbody>\n",
       "</table>\n",
       "</div>"
      ],
      "text/plain": [
       "   pclass   age  sibling     fare  survived  male  Queenstown  Southampton\n",
       "0       3  22.0        1   7.2500         0     1           0            1\n",
       "1       1  38.0        1  71.2833         1     0           0            0\n",
       "2       3  26.0        0   7.9250         1     0           0            1\n",
       "3       1  35.0        1  53.1000         1     0           0            1\n",
       "4       3  35.0        0   8.0500         0     1           0            1"
      ]
     },
     "execution_count": 15,
     "metadata": {},
     "output_type": "execute_result"
    }
   ],
   "source": [
    "df.head()"
   ]
  },
  {
   "cell_type": "code",
   "execution_count": 16,
   "metadata": {},
   "outputs": [],
   "source": [
    "from sklearn.model_selection import train_test_split\n",
    "from sklearn.linear_model import LogisticRegression"
   ]
  },
  {
   "cell_type": "code",
   "execution_count": 17,
   "metadata": {},
   "outputs": [],
   "source": [
    "x=df.drop('survived',axis=1)\n",
    "y=df['survived']"
   ]
  },
  {
   "cell_type": "code",
   "execution_count": 18,
   "metadata": {},
   "outputs": [],
   "source": [
    "xtrain,xtest,ytrain,ytest=train_test_split(x,y,test_size=0.2,random_state=1)"
   ]
  },
  {
   "cell_type": "code",
   "execution_count": 19,
   "metadata": {},
   "outputs": [],
   "source": [
    "lr=LogisticRegression()"
   ]
  },
  {
   "cell_type": "code",
   "execution_count": 20,
   "metadata": {},
   "outputs": [
    {
     "name": "stderr",
     "output_type": "stream",
     "text": [
      "C:\\Users\\preetideepti\\Anaconda3\\lib\\site-packages\\sklearn\\linear_model\\logistic.py:432: FutureWarning: Default solver will be changed to 'lbfgs' in 0.22. Specify a solver to silence this warning.\n",
      "  FutureWarning)\n"
     ]
    },
    {
     "data": {
      "text/plain": [
       "LogisticRegression(C=1.0, class_weight=None, dual=False, fit_intercept=True,\n",
       "                   intercept_scaling=1, l1_ratio=None, max_iter=100,\n",
       "                   multi_class='warn', n_jobs=None, penalty='l2',\n",
       "                   random_state=None, solver='warn', tol=0.0001, verbose=0,\n",
       "                   warm_start=False)"
      ]
     },
     "execution_count": 20,
     "metadata": {},
     "output_type": "execute_result"
    }
   ],
   "source": [
    "lr.fit(xtrain,ytrain)"
   ]
  },
  {
   "cell_type": "code",
   "execution_count": 21,
   "metadata": {},
   "outputs": [],
   "source": [
    "pred=lr.predict(xtest)"
   ]
  },
  {
   "cell_type": "code",
   "execution_count": 22,
   "metadata": {},
   "outputs": [
    {
     "data": {
      "text/plain": [
       "(178,)"
      ]
     },
     "execution_count": 22,
     "metadata": {},
     "output_type": "execute_result"
    }
   ],
   "source": [
    "pred.shape"
   ]
  },
  {
   "cell_type": "code",
   "execution_count": 23,
   "metadata": {},
   "outputs": [
    {
     "data": {
      "text/plain": [
       "array([[91, 14],\n",
       "       [16, 57]], dtype=int64)"
      ]
     },
     "execution_count": 23,
     "metadata": {},
     "output_type": "execute_result"
    }
   ],
   "source": [
    "from sklearn import metrics as m\n",
    "m.confusion_matrix(ytest,pred)"
   ]
  },
  {
   "cell_type": "code",
   "execution_count": 24,
   "metadata": {},
   "outputs": [
    {
     "data": {
      "text/plain": [
       "0.8314606741573034"
      ]
     },
     "execution_count": 24,
     "metadata": {},
     "output_type": "execute_result"
    }
   ],
   "source": [
    "lr.score(xtest,ytest)"
   ]
  },
  {
   "cell_type": "code",
   "execution_count": 25,
   "metadata": {},
   "outputs": [],
   "source": [
    "predict_prob=lr.predict_proba(xtest)"
   ]
  },
  {
   "cell_type": "code",
   "execution_count": 26,
   "metadata": {},
   "outputs": [
    {
     "name": "stdout",
     "output_type": "stream",
     "text": [
      "(178, 2)\n"
     ]
    },
    {
     "data": {
      "text/plain": [
       "array([[0.30387649, 0.69612351],\n",
       "       [0.37455622, 0.62544378],\n",
       "       [0.9253605 , 0.0746395 ],\n",
       "       [0.30165892, 0.69834108],\n",
       "       [0.93845552, 0.06154448],\n",
       "       [0.17158887, 0.82841113],\n",
       "       [0.37397422, 0.62602578],\n",
       "       [0.56121624, 0.43878376],\n",
       "       [0.83662528, 0.16337472],\n",
       "       [0.42827969, 0.57172031],\n",
       "       [0.70937514, 0.29062486],\n",
       "       [0.29981299, 0.70018701],\n",
       "       [0.76196922, 0.23803078],\n",
       "       [0.21486202, 0.78513798],\n",
       "       [0.85962333, 0.14037667],\n",
       "       [0.3997036 , 0.6002964 ],\n",
       "       [0.89495023, 0.10504977],\n",
       "       [0.32730009, 0.67269991],\n",
       "       [0.209831  , 0.790169  ],\n",
       "       [0.49816436, 0.50183564],\n",
       "       [0.86365144, 0.13634856],\n",
       "       [0.60300545, 0.39699455],\n",
       "       [0.85053094, 0.14946906],\n",
       "       [0.93358521, 0.06641479],\n",
       "       [0.55758921, 0.44241079],\n",
       "       [0.50033391, 0.49966609],\n",
       "       [0.06952593, 0.93047407],\n",
       "       [0.86209407, 0.13790593],\n",
       "       [0.90013954, 0.09986046],\n",
       "       [0.374223  , 0.625777  ],\n",
       "       [0.44145918, 0.55854082],\n",
       "       [0.10129992, 0.89870008],\n",
       "       [0.20530369, 0.79469631],\n",
       "       [0.41514142, 0.58485858],\n",
       "       [0.57297714, 0.42702286],\n",
       "       [0.2273198 , 0.7726802 ],\n",
       "       [0.63089796, 0.36910204],\n",
       "       [0.87802214, 0.12197786],\n",
       "       [0.28912063, 0.71087937],\n",
       "       [0.61160088, 0.38839912],\n",
       "       [0.43108503, 0.56891497],\n",
       "       [0.88786421, 0.11213579],\n",
       "       [0.2336963 , 0.7663037 ],\n",
       "       [0.87805484, 0.12194516],\n",
       "       [0.77433889, 0.22566111],\n",
       "       [0.28142792, 0.71857208],\n",
       "       [0.20536967, 0.79463033],\n",
       "       [0.80191867, 0.19808133],\n",
       "       [0.10345051, 0.89654949],\n",
       "       [0.90467059, 0.09532941],\n",
       "       [0.87831613, 0.12168387],\n",
       "       [0.48417017, 0.51582983],\n",
       "       [0.89133369, 0.10866631],\n",
       "       [0.10235396, 0.89764604],\n",
       "       [0.76902964, 0.23097036],\n",
       "       [0.09973011, 0.90026989],\n",
       "       [0.78628111, 0.21371889],\n",
       "       [0.91856249, 0.08143751],\n",
       "       [0.73650882, 0.26349118],\n",
       "       [0.93589292, 0.06410708],\n",
       "       [0.78823819, 0.21176181],\n",
       "       [0.85599522, 0.14400478],\n",
       "       [0.56699037, 0.43300963],\n",
       "       [0.87805484, 0.12194516],\n",
       "       [0.49867291, 0.50132709],\n",
       "       [0.27962541, 0.72037459],\n",
       "       [0.87464059, 0.12535941],\n",
       "       [0.89514957, 0.10485043],\n",
       "       [0.82812286, 0.17187714],\n",
       "       [0.04094136, 0.95905864],\n",
       "       [0.59774527, 0.40225473],\n",
       "       [0.09222679, 0.90777321],\n",
       "       [0.65794523, 0.34205477],\n",
       "       [0.85634359, 0.14365641],\n",
       "       [0.33935275, 0.66064725],\n",
       "       [0.17235407, 0.82764593],\n",
       "       [0.84493571, 0.15506429],\n",
       "       [0.90957702, 0.09042298],\n",
       "       [0.86904008, 0.13095992],\n",
       "       [0.8239294 , 0.1760706 ],\n",
       "       [0.84493571, 0.15506429],\n",
       "       [0.85953241, 0.14046759],\n",
       "       [0.0740353 , 0.9259647 ],\n",
       "       [0.04640039, 0.95359961],\n",
       "       [0.77641041, 0.22358959],\n",
       "       [0.68265834, 0.31734166],\n",
       "       [0.48456715, 0.51543285],\n",
       "       [0.1037958 , 0.8962042 ],\n",
       "       [0.87805484, 0.12194516],\n",
       "       [0.39890774, 0.60109226],\n",
       "       [0.88374469, 0.11625531],\n",
       "       [0.37426591, 0.62573409],\n",
       "       [0.91822198, 0.08177802],\n",
       "       [0.84126844, 0.15873156],\n",
       "       [0.36780085, 0.63219915],\n",
       "       [0.83314071, 0.16685929],\n",
       "       [0.29304486, 0.70695514],\n",
       "       [0.33296132, 0.66703868],\n",
       "       [0.36779608, 0.63220392],\n",
       "       [0.2676576 , 0.7323424 ],\n",
       "       [0.84941866, 0.15058134],\n",
       "       [0.37453676, 0.62546324],\n",
       "       [0.69910521, 0.30089479],\n",
       "       [0.85297484, 0.14702516],\n",
       "       [0.85247895, 0.14752105],\n",
       "       [0.90936439, 0.09063561],\n",
       "       [0.12116765, 0.87883235],\n",
       "       [0.84951499, 0.15048501],\n",
       "       [0.81831464, 0.18168536],\n",
       "       [0.81181346, 0.18818654],\n",
       "       [0.63095103, 0.36904897],\n",
       "       [0.77329545, 0.22670455],\n",
       "       [0.84126844, 0.15873156],\n",
       "       [0.29023654, 0.70976346],\n",
       "       [0.35813396, 0.64186604],\n",
       "       [0.12690889, 0.87309111],\n",
       "       [0.91687973, 0.08312027],\n",
       "       [0.42836438, 0.57163562],\n",
       "       [0.07826382, 0.92173618],\n",
       "       [0.79666282, 0.20333718],\n",
       "       [0.86951562, 0.13048438],\n",
       "       [0.33263268, 0.66736732],\n",
       "       [0.37382269, 0.62617731],\n",
       "       [0.57709569, 0.42290431],\n",
       "       [0.22334298, 0.77665702],\n",
       "       [0.87526905, 0.12473095],\n",
       "       [0.46833076, 0.53166924],\n",
       "       [0.9146595 , 0.0853405 ],\n",
       "       [0.8722153 , 0.1277847 ],\n",
       "       [0.61575447, 0.38424553],\n",
       "       [0.4973491 , 0.5026509 ],\n",
       "       [0.70032411, 0.29967589],\n",
       "       [0.85619594, 0.14380406],\n",
       "       [0.57709569, 0.42290431],\n",
       "       [0.40274036, 0.59725964],\n",
       "       [0.11089436, 0.88910564],\n",
       "       [0.85131662, 0.14868338],\n",
       "       [0.90662277, 0.09337723],\n",
       "       [0.87431885, 0.12568115],\n",
       "       [0.87027862, 0.12972138],\n",
       "       [0.84144703, 0.15855297],\n",
       "       [0.34786231, 0.65213769],\n",
       "       [0.90431365, 0.09568635],\n",
       "       [0.42797491, 0.57202509],\n",
       "       [0.60839338, 0.39160662],\n",
       "       [0.76054499, 0.23945501],\n",
       "       [0.30755691, 0.69244309],\n",
       "       [0.06345952, 0.93654048],\n",
       "       [0.09901166, 0.90098834],\n",
       "       [0.90438941, 0.09561059],\n",
       "       [0.87454002, 0.12545998],\n",
       "       [0.91596682, 0.08403318],\n",
       "       [0.24533038, 0.75466962],\n",
       "       [0.84951499, 0.15048501],\n",
       "       [0.52238468, 0.47761532],\n",
       "       [0.4021236 , 0.5978764 ],\n",
       "       [0.76452732, 0.23547268],\n",
       "       [0.43893982, 0.56106018],\n",
       "       [0.87729434, 0.12270566],\n",
       "       [0.87819861, 0.12180139],\n",
       "       [0.56639058, 0.43360942],\n",
       "       [0.78316438, 0.21683562],\n",
       "       [0.61575447, 0.38424553],\n",
       "       [0.87230836, 0.12769164],\n",
       "       [0.85323065, 0.14676935],\n",
       "       [0.83871337, 0.16128663],\n",
       "       [0.17555664, 0.82444336],\n",
       "       [0.01222172, 0.98777828],\n",
       "       [0.76959645, 0.23040355],\n",
       "       [0.24150923, 0.75849077],\n",
       "       [0.85437987, 0.14562013],\n",
       "       [0.90599046, 0.09400954],\n",
       "       [0.84493571, 0.15506429],\n",
       "       [0.86609865, 0.13390135],\n",
       "       [0.75954295, 0.24045705],\n",
       "       [0.33287578, 0.66712422],\n",
       "       [0.85953241, 0.14046759],\n",
       "       [0.74407078, 0.25592922]])"
      ]
     },
     "execution_count": 26,
     "metadata": {},
     "output_type": "execute_result"
    }
   ],
   "source": [
    "print(predict_prob.shape)\n",
    "predict_prob"
   ]
  },
  {
   "cell_type": "code",
   "execution_count": 27,
   "metadata": {},
   "outputs": [],
   "source": [
    "predict_prob=predict_prob[:,1]"
   ]
  },
  {
   "cell_type": "code",
   "execution_count": 28,
   "metadata": {},
   "outputs": [
    {
     "data": {
      "text/plain": [
       "0.9035877364644488"
      ]
     },
     "execution_count": 28,
     "metadata": {},
     "output_type": "execute_result"
    }
   ],
   "source": [
    "#Calculate AUC\n",
    "auc=m.roc_auc_score(ytest,predict_prob)\n",
    "auc"
   ]
  },
  {
   "cell_type": "code",
   "execution_count": 29,
   "metadata": {},
   "outputs": [],
   "source": [
    "#calculate roc curve\n",
    "fpr,tpr,thresholds=m.roc_curve(ytest,predict_prob)"
   ]
  },
  {
   "cell_type": "code",
   "execution_count": 30,
   "metadata": {},
   "outputs": [
    {
     "ename": "NameError",
     "evalue": "name 'plt' is not defined",
     "output_type": "error",
     "traceback": [
      "\u001b[1;31m---------------------------------------------------------------------------\u001b[0m",
      "\u001b[1;31mNameError\u001b[0m                                 Traceback (most recent call last)",
      "\u001b[1;32m<ipython-input-30-41e3f039b871>\u001b[0m in \u001b[0;36m<module>\u001b[1;34m\u001b[0m\n\u001b[1;32m----> 1\u001b[1;33m \u001b[0mplt\u001b[0m\u001b[1;33m.\u001b[0m\u001b[0mplot\u001b[0m\u001b[1;33m(\u001b[0m\u001b[1;33m[\u001b[0m\u001b[1;36m0\u001b[0m\u001b[1;33m,\u001b[0m\u001b[1;36m1\u001b[0m\u001b[1;33m]\u001b[0m\u001b[1;33m,\u001b[0m\u001b[1;33m[\u001b[0m\u001b[1;36m0\u001b[0m\u001b[1;33m,\u001b[0m\u001b[1;36m1\u001b[0m\u001b[1;33m]\u001b[0m\u001b[1;33m,\u001b[0m\u001b[0mlinestyle\u001b[0m\u001b[1;33m=\u001b[0m\u001b[1;34m\"--\"\u001b[0m\u001b[1;33m)\u001b[0m\u001b[1;33m\u001b[0m\u001b[1;33m\u001b[0m\u001b[0m\n\u001b[0m\u001b[0;32m      2\u001b[0m \u001b[0mplt\u001b[0m\u001b[1;33m.\u001b[0m\u001b[0mplot\u001b[0m\u001b[1;33m(\u001b[0m\u001b[0mfpr\u001b[0m\u001b[1;33m,\u001b[0m\u001b[0mtpr\u001b[0m\u001b[1;33m,\u001b[0m\u001b[0mmarker\u001b[0m\u001b[1;33m=\u001b[0m\u001b[1;34m\".\"\u001b[0m\u001b[1;33m)\u001b[0m\u001b[1;33m\u001b[0m\u001b[1;33m\u001b[0m\u001b[0m\n\u001b[0;32m      3\u001b[0m \u001b[0mplt\u001b[0m\u001b[1;33m.\u001b[0m\u001b[0mshow\u001b[0m\u001b[1;33m(\u001b[0m\u001b[1;33m)\u001b[0m\u001b[1;33m\u001b[0m\u001b[1;33m\u001b[0m\u001b[0m\n",
      "\u001b[1;31mNameError\u001b[0m: name 'plt' is not defined"
     ]
    }
   ],
   "source": [
    "plt.plot([0,1],[0,1],linestyle=\"--\")\n",
    "plt.plot(fpr,tpr,marker=\".\")\n",
    "plt.show()"
   ]
  },
  {
   "cell_type": "code",
   "execution_count": null,
   "metadata": {},
   "outputs": [],
   "source": []
  }
 ],
 "metadata": {
  "kernelspec": {
   "display_name": "Python 3",
   "language": "python",
   "name": "python3"
  },
  "language_info": {
   "codemirror_mode": {
    "name": "ipython",
    "version": 3
   },
   "file_extension": ".py",
   "mimetype": "text/x-python",
   "name": "python",
   "nbconvert_exporter": "python",
   "pygments_lexer": "ipython3",
   "version": "3.7.3"
  }
 },
 "nbformat": 4,
 "nbformat_minor": 2
}
